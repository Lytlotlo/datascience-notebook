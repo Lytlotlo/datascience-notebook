{
 "cells": [
  {
   "cell_type": "markdown",
   "id": "e67c53da-fbe0-4536-b309-a51f7a10ec7f",
   "metadata": {},
   "source": [
    "# Data Science Tools and Ecosystem"
   ]
  },
  {
   "cell_type": "markdown",
   "id": "6a9744d7-91ca-46d0-8686-cc63a58f85dc",
   "metadata": {},
   "source": [
    "In this notebook, Data Science Tools and Ecosystem are summarized.\n"
   ]
  },
  {
   "cell_type": "markdown",
   "id": "f46f4f3c-f7cb-4961-8673-5f6d601de025",
   "metadata": {},
   "source": [
    "Some of the popular languages that Data Scientists use are:\n",
    "\n",
    "1. Python  \n",
    "2. R  \n",
    "3. SQL  \n",
    "4. Julia  \n",
    "5. Scala  \n"
   ]
  },
  {
   "cell_type": "markdown",
   "id": "00b663a0-ea3f-4846-a1f2-1be486f0e0fe",
   "metadata": {},
   "source": [
    "Some of the commonly used libraries used by Data Scientists include:\n",
    "\n",
    "1. Pandas  \n",
    "2. NumPy  \n",
    "3. Matplotlib  \n",
    "4. Scikit-learn  \n",
    "5. TensorFlow  \n"
   ]
  },
  {
   "cell_type": "markdown",
   "id": "64e32dad-5ddc-4d46-9b61-c1028e8ce6e6",
   "metadata": {},
   "source": [
    "| Data Science Tools         |\n",
    "|----------------------------|\n",
    "| Jupyter Notebook           |\n",
    "| RStudio                    |\n",
    "| VS Code                    |\n"
   ]
  },
  {
   "cell_type": "markdown",
   "id": "4ad77e5f-ecf3-49b7-a1be-12e379072ff7",
   "metadata": {},
   "source": [
    "### Below are a few examples of evaluating arithmetic expressions in Python.\n"
   ]
  },
  {
   "cell_type": "code",
   "execution_count": 1,
   "id": "fb6deaa2-fd7b-4eac-b4e7-5b1b9527c573",
   "metadata": {},
   "outputs": [
    {
     "data": {
      "text/plain": [
       "17"
      ]
     },
     "execution_count": 1,
     "metadata": {},
     "output_type": "execute_result"
    }
   ],
   "source": [
    "# This is a simple arithmetic expression to multiply then add integers\n",
    "(3 * 4) + 5\n"
   ]
  },
  {
   "cell_type": "code",
   "execution_count": 2,
   "id": "2c6a4ae7-d53b-4d84-946c-4f8c2b09631d",
   "metadata": {},
   "outputs": [
    {
     "data": {
      "text/plain": [
       "3.3333333333333335"
      ]
     },
     "execution_count": 2,
     "metadata": {},
     "output_type": "execute_result"
    }
   ],
   "source": [
    "# This will convert 200 minutes to hours by dividing by 60\n",
    "200 / 60\n",
    "\n"
   ]
  },
  {
   "cell_type": "markdown",
   "id": "ad00be8f-4b29-4105-a8ae-dab7272a86bb",
   "metadata": {},
   "source": [
    "**Objectives:**\n",
    "\n",
    "- List popular languages for Data Science  \n",
    "- Identify commonly used libraries in Data Science  \n",
    "- Create and format markdown cells  \n",
    "- Perform basic arithmetic operations in Python  \n",
    "- Convert units using Python expressions  \n"
   ]
  },
  {
   "cell_type": "markdown",
   "id": "90d17679-fa0e-4ee6-9e9a-eed5b46b75e0",
   "metadata": {},
   "source": [
    "## Author\n",
    "\n",
    "Letlotlo Mokuoa\n"
   ]
  },
  {
   "cell_type": "code",
   "execution_count": null,
   "id": "abd56816-3efb-496d-be82-b0fc833b2ae2",
   "metadata": {},
   "outputs": [],
   "source": []
  }
 ],
 "metadata": {
  "kernelspec": {
   "display_name": "Python 3 (ipykernel)",
   "language": "python",
   "name": "python3"
  },
  "language_info": {
   "codemirror_mode": {
    "name": "ipython",
    "version": 3
   },
   "file_extension": ".py",
   "mimetype": "text/x-python",
   "name": "python",
   "nbconvert_exporter": "python",
   "pygments_lexer": "ipython3",
   "version": "3.12.8"
  }
 },
 "nbformat": 4,
 "nbformat_minor": 5
}
